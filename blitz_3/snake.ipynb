{
  "nbformat": 4,
  "nbformat_minor": 0,
  "metadata": {
    "colab": {
      "name": "snake.ipynb",
      "provenance": [],
      "authorship_tag": "ABX9TyMp18ZHDyRxgqMvX29YnBFH",
      "include_colab_link": true
    },
    "kernelspec": {
      "name": "python3",
      "display_name": "Python 3"
    }
  },
  "cells": [
    {
      "cell_type": "markdown",
      "metadata": {
        "id": "view-in-github",
        "colab_type": "text"
      },
      "source": [
        "<a href=\"https://colab.research.google.com/github/andreidore/aicrowd/blob/master/blitz_3/snake.ipynb\" target=\"_parent\"><img src=\"https://colab.research.google.com/assets/colab-badge.svg\" alt=\"Open In Colab\"/></a>"
      ]
    },
    {
      "cell_type": "code",
      "metadata": {
        "id": "isgvd5iM5mOH",
        "colab_type": "code",
        "colab": {
          "base_uri": "https://localhost:8080/",
          "height": 34
        },
        "outputId": "aba0d4ae-a85d-42f1-c2d0-7cac6ce032e4"
      },
      "source": [
        "!pip install tqdm"
      ],
      "execution_count": 1,
      "outputs": [
        {
          "output_type": "stream",
          "text": [
            "Requirement already satisfied: tqdm in /usr/local/lib/python3.6/dist-packages (4.41.1)\n"
          ],
          "name": "stdout"
        }
      ]
    },
    {
      "cell_type": "code",
      "metadata": {
        "id": "uIMFGjzl5gma",
        "colab_type": "code",
        "colab": {}
      },
      "source": [
        "import os\n",
        "import tensorflow as tf\n"
      ],
      "execution_count": 2,
      "outputs": []
    },
    {
      "cell_type": "code",
      "metadata": {
        "id": "A1Z8btWb561X",
        "colab_type": "code",
        "colab": {
          "base_uri": "https://localhost:8080/",
          "height": 85
        },
        "outputId": "c92c8a0a-fcb6-413d-90c1-b288e3a7d451"
      },
      "source": [
        "print(tf.test.is_gpu_available(\"GPU\"))"
      ],
      "execution_count": 3,
      "outputs": [
        {
          "output_type": "stream",
          "text": [
            "WARNING:tensorflow:From <ipython-input-3-3d6265f0a310>:1: is_gpu_available (from tensorflow.python.framework.test_util) is deprecated and will be removed in a future version.\n",
            "Instructions for updating:\n",
            "Use `tf.config.list_physical_devices('GPU')` instead.\n",
            "False\n"
          ],
          "name": "stdout"
        }
      ]
    },
    {
      "cell_type": "code",
      "metadata": {
        "id": "G2EF1L2E6RXs",
        "colab_type": "code",
        "colab": {}
      },
      "source": [
        "!wget -q https://s3.eu-central-1.wasabisys.com/aicrowd-practice-challenges/public/snake/v0.1/train.zip\n",
        "!wget -q https://s3.eu-central-1.wasabisys.com/aicrowd-practice-challenges/public/snake/v0.1/val.zip\n",
        "!wget -q https://s3.eu-central-1.wasabisys.com/aicrowd-practice-challenges/public/snake/v0.1/test.zip\n",
        "\n",
        "!wget -q https://s3.eu-central-1.wasabisys.com/aicrowd-practice-challenges/public/snake/v0.1/sample_submission.csv\n",
        "\n",
        "\n",
        "!mkdir data\n",
        "!mkdir data/test\n",
        "!mkdir data/train\n",
        "!mkdir data/val\n",
        "\n",
        "!unzip -q train.zip\n",
        "!unzip -q test.zip\n",
        "!unzip -q val.zip\n",
        "\n",
        "\n",
        "!mv content/data/train/* data/train\n",
        "!mv content/data/val/* data/val\n",
        "!mv content/data/test/* data/test\n",
        "\n",
        "\n",
        "!rm -rf content/\n",
        "\n",
        "\n",
        "!mkdir models"
      ],
      "execution_count": null,
      "outputs": []
    }
  ]
}